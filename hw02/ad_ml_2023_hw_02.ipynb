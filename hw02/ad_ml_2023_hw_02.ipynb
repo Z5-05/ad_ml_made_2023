{
 "cells": [
  {
   "cell_type": "code",
   "execution_count": 2,
   "metadata": {},
   "outputs": [],
   "source": [
    "import numpy as np\n",
    "import pandas as pd\n",
    "import math\n",
    "import re\n",
    "import scipy.stats as sps\n",
    "from tqdm import tqdm\n",
    "from datetime import datetime, date\n",
    "from scipy.sparse import hstack, vstack\n",
    "from scipy.special import logit, expit\n",
    "\n",
    "from sklearn.preprocessing import OneHotEncoder\n",
    "import pickle\n",
    "from sklearn.linear_model import LogisticRegression, LinearRegression\n",
    "\n",
    "import warnings\n",
    "warnings.filterwarnings(\"ignore\")"
   ]
  },
  {
   "cell_type": "code",
   "execution_count": 3,
   "metadata": {},
   "outputs": [
    {
     "name": "stdout",
     "output_type": "stream",
     "text": [
      "players.pkl  results.pkl  tournaments.pkl  working\r\n"
     ]
    }
   ],
   "source": [
    "!ls data"
   ]
  },
  {
   "cell_type": "code",
   "execution_count": 4,
   "metadata": {},
   "outputs": [],
   "source": [
    "DIR = \"data/\""
   ]
  },
  {
   "cell_type": "markdown",
   "metadata": {},
   "source": [
    "### 1. Data reading and analysing:"
   ]
  },
  {
   "cell_type": "code",
   "execution_count": 5,
   "metadata": {},
   "outputs": [
    {
     "name": "stdout",
     "output_type": "stream",
     "text": [
      "CPU times: user 13.4 s, sys: 3.19 s, total: 16.6 s\n",
      "Wall time: 16.6 s\n"
     ]
    }
   ],
   "source": [
    "%%time\n",
    "players = pd.read_pickle(DIR + \"players.pkl\") \n",
    "results = pd.read_pickle(DIR + \"results.pkl\")\n",
    "tournaments = pd.read_pickle(DIR + \"tournaments.pkl\")"
   ]
  },
  {
   "cell_type": "code",
   "execution_count": 6,
   "metadata": {},
   "outputs": [],
   "source": [
    "# split tournaments to train/test\n",
    "tournaments_df = pd.DataFrame.from_dict(\n",
    "    tournaments, orient=\"index\", columns=[\"id\", \"name\", \"dateStart\"]\n",
    ")\n",
    "tournaments_df[\"dateStart\"] = pd.to_datetime(tournaments_df[\"dateStart\"]).apply(lambda x: x.date())\n",
    "train_tournaments_df = tournaments_df[\n",
    "    (tournaments_df[\"dateStart\"] >= date(2019, 1, 1))\n",
    "    & (tournaments_df[\"dateStart\"] <= date(2019, 12, 31))\n",
    "]\n",
    "test_tournaments_df = tournaments_df[\n",
    "    (tournaments_df[\"dateStart\"] >= date(2020, 1, 1))\n",
    "    & (tournaments_df[\"dateStart\"] <= date(2020, 12, 31))\n",
    "]"
   ]
  },
  {
   "cell_type": "code",
   "execution_count": 7,
   "metadata": {},
   "outputs": [],
   "source": [
    "# now, we need to filter data with results\n",
    "def filter(tour_id: int):\n",
    "    result = results[tour_id]\n",
    "    masks = []\n",
    "    team_ids = []\n",
    "    team_names = []\n",
    "    team_position = []\n",
    "    player_ids = []\n",
    "    player_names = []\n",
    "    for team in result:\n",
    "        questionsTotal = team.get(\"questionsTotal\")\n",
    "        if questionsTotal is None:\n",
    "            continue\n",
    "        if questionsTotal <= 0:\n",
    "            continue\n",
    "        position = team.get(\"position\")\n",
    "        if position is None:\n",
    "            continue\n",
    "        masks.append(team.get(\"mask\").replace(\"X\", \"0\").replace(\"?\", \"0\"))\n",
    "        team_ids.append(team[\"team\"][\"id\"])\n",
    "        team_names.append(team[\"team\"][\"name\"])\n",
    "        team_position.append(position)\n",
    "        player_ids.append([player[\"player\"][\"id\"] for player in team[\"teamMembers\"]])\n",
    "        player_names.append(\n",
    "            [\n",
    "                \"{} {} {}\".format(\n",
    "                    player[\"player\"][\"surname\"],\n",
    "                    player[\"player\"][\"name\"],\n",
    "                    player[\"player\"][\"patronymic\"],\n",
    "                )\n",
    "                for player in team[\"teamMembers\"]\n",
    "            ]\n",
    "        )\n",
    "\n",
    "    return masks, team_ids, team_names, team_position, player_ids, player_names\n",
    "\n",
    "\n",
    "def update_dataframe(dataframe: pd.DataFrame):\n",
    "    (\n",
    "        dataframe[\"mask\"],\n",
    "        dataframe[\"team_id\"],\n",
    "        dataframe[\"team_name\"],\n",
    "        dataframe[\"team_position\"],\n",
    "        dataframe[\"player_id\"],\n",
    "        dataframe[\"player_name\"],\n",
    "    ) = zip(*dataframe[\"id\"].apply(filter))\n",
    "    dataframe = (\n",
    "        dataframe.explode(\n",
    "            [\n",
    "                \"mask\",\n",
    "                \"team_id\",\n",
    "                \"team_name\",\n",
    "                \"team_position\",\n",
    "                \"player_id\",\n",
    "                \"player_name\",\n",
    "            ]\n",
    "        )\n",
    "        .explode([\"player_id\", \"player_name\"])\n",
    "        .reset_index(drop=True)\n",
    "    )\n",
    "    dataframe.dropna(inplace=True)\n",
    "    dataframe[\"mask_len\"] = dataframe[\"mask\"].apply(len)\n",
    "    dataframe = dataframe.merge(\n",
    "        dataframe.groupby(\"id\")[\"mask_len\"].max().rename(\"max_len\"),\n",
    "        left_on=\"id\",\n",
    "        right_index=True,\n",
    "    )\n",
    "    dataframe = dataframe[dataframe[\"mask_len\"] == dataframe[\"max_len\"]].reset_index(\n",
    "        drop=True\n",
    "    )\n",
    "    dataframe = dataframe[\n",
    "        [\n",
    "            \"id\",\n",
    "            \"name\",\n",
    "            \"team_id\",\n",
    "            \"team_name\",\n",
    "            \"team_position\",\n",
    "            \"player_id\",\n",
    "            \"player_name\",\n",
    "            \"mask\",\n",
    "            \"mask_len\",\n",
    "        ]\n",
    "    ]\n",
    "    return dataframe"
   ]
  },
  {
   "cell_type": "code",
   "execution_count": 8,
   "metadata": {},
   "outputs": [
    {
     "name": "stdout",
     "output_type": "stream",
     "text": [
      "CPU times: user 1.42 s, sys: 98.3 ms, total: 1.52 s\n",
      "Wall time: 1.52 s\n"
     ]
    }
   ],
   "source": [
    "%%time\n",
    "train_tournaments_df2 = update_dataframe(train_tournaments_df)\n",
    "test_tournaments_df2 = update_dataframe(test_tournaments_df)\n",
    "train_tournaments_df2.to_csv(\"data/working/train_tournaments_df2.csv\", index=False)\n",
    "test_tournaments_df2.to_csv(\"data/working/test_tournaments_df2.csv\", index=False)\n",
    "# train_tournaments_df2 = pd.read_csv(\"data/working/train_tournaments_df2.csv\")\n",
    "# test_tournaments_df2 = pd.read_csv(\"data/working/test_tournaments_df2.csv\")"
   ]
  },
  {
   "cell_type": "markdown",
   "metadata": {},
   "source": [
    "#### Questions dataframe:\n",
    "Now, we need to create raw data about player/question stats (After all we add question rating to their indexes)"
   ]
  },
  {
   "cell_type": "code",
   "execution_count": 9,
   "metadata": {},
   "outputs": [],
   "source": [
    "def questions_dataframe(dataframe: pd.DataFrame) -> pd.DataFrame:\n",
    "    tmp_df = dataframe[['id', 'mask', 'mask_len', 'player_id']]\n",
    "    tmp_df['points'] = tmp_df['mask'].apply(lambda x: [int(i) for i in x])\n",
    "    \n",
    "    tmp_df['question_id'] = tmp_df.apply(lambda x: [(x.id * 10 ** 3 + i) for i in range(x.mask_len)], axis=1)\n",
    "    tmp_df2 = tmp_df.explode(['points', 'question_id'])\n",
    "    return tmp_df2"
   ]
  },
  {
   "cell_type": "code",
   "execution_count": 10,
   "metadata": {},
   "outputs": [
    {
     "name": "stdout",
     "output_type": "stream",
     "text": [
      "CPU times: user 15 s, sys: 2.29 s, total: 17.3 s\n",
      "Wall time: 17.3 s\n"
     ]
    }
   ],
   "source": [
    "%%time\n",
    "train_questions_raw = questions_dataframe(train_tournaments_df2)\n",
    "test_questions_raw = questions_dataframe(test_tournaments_df2)\n",
    "train_questions_raw.to_csv(\"data/working/train_questions_raw.csv\", index=False)\n",
    "test_questions_raw.to_csv(\"data/working/test_questions_raw.csv\", index=False)\n",
    "# train_questions_raw = pd.read_csv(\"data/working/train_questions_raw.csv\")\n",
    "# test_questions_raw = pd.read_csv(\"data/working/test_questions_raw.csv\")"
   ]
  },
  {
   "cell_type": "markdown",
   "metadata": {},
   "source": [
    "#### Question complexity:\n",
    "As question complexity we can use share of correct answers:"
   ]
  },
  {
   "cell_type": "code",
   "execution_count": 11,
   "metadata": {},
   "outputs": [],
   "source": [
    "def complexity_estimation(dataframe: pd.DataFrame) -> pd.DataFrame:\n",
    "    tmp_df = dataframe[['player_id', 'points', 'question_id']]\n",
    "    tmp_df['correct'] = tmp_df.groupby('question_id')['points'].transform('sum')\n",
    "    tmp_df['total'] = tmp_df.groupby('question_id')['points'].transform('count')\n",
    "    tmp_df['complexity'] = tmp_df['correct'] / tmp_df['total']  \n",
    "    \n",
    "    return tmp_df[['player_id', 'question_id', 'complexity', 'points']]"
   ]
  },
  {
   "cell_type": "code",
   "execution_count": 12,
   "metadata": {},
   "outputs": [
    {
     "name": "stdout",
     "output_type": "stream",
     "text": [
      "CPU times: user 11.5 s, sys: 3.44 s, total: 14.9 s\n",
      "Wall time: 14.9 s\n"
     ]
    }
   ],
   "source": [
    "%%time\n",
    "train_questions = complexity_estimation(train_questions_raw)\n",
    "test_questions = complexity_estimation(test_questions_raw)\n",
    "train_questions.to_csv(\"data/working/train_questions.csv\", index=False)\n",
    "test_questions.to_csv(\"data/working/test_questions.csv\", index=False)\n",
    "# train_questions = pd.read_csv(\"data/working/train_questions.csv\")\n",
    "# test_questions = pd.read_csv(\"data/working/train_questions.csv\")"
   ]
  },
  {
   "cell_type": "markdown",
   "metadata": {},
   "source": [
    "### 2. Baseline model:\n",
    "#### We can start to work with first baseline - analyse how player work with question depends on its complexity\n",
    "About realisation - we can use personal LogisticRegression for each player or total, but player_id will be a part of features. Above, we create datasets to train and predict. \n",
    "1. Train - pairs player_id - complexity in train dataset;\n",
    "2. Test - pairs player_id and range complexity to predict individual ability of player to work with tasks with different complexity."
   ]
  },
  {
   "cell_type": "code",
   "execution_count": 13,
   "metadata": {},
   "outputs": [],
   "source": [
    "X_train = train_questions[['player_id', 'complexity']].values\n",
    "y_train = train_questions['points'].astype('int').values"
   ]
  },
  {
   "cell_type": "code",
   "execution_count": 14,
   "metadata": {},
   "outputs": [
    {
     "name": "stdout",
     "output_type": "stream",
     "text": [
      "CPU times: user 800 ms, sys: 276 ms, total: 1.08 s\n",
      "Wall time: 1.07 s\n"
     ]
    }
   ],
   "source": [
    "%%time\n",
    "players_model_df = pd.DataFrame(players.keys(), columns=['player_id'])\n",
    "players_model_df['complexity'] = [np.arange(0, 1, 0.05).tolist()] * players_model_df.shape[0]\n",
    "players_model_df = players_model_df.explode('complexity')\n",
    "players_model_df = players_model_df[players_model_df['player_id'].isin(train_questions['player_id'])]\n",
    "X_predict = players_model_df[['player_id', 'complexity']].values"
   ]
  },
  {
   "cell_type": "code",
   "execution_count": 15,
   "metadata": {},
   "outputs": [],
   "source": [
    "players_list = players_model_df['player_id'].drop_duplicates().to_list()"
   ]
  },
  {
   "cell_type": "markdown",
   "metadata": {},
   "source": [
    "Firstly, try to user player_id and complexity as features value:"
   ]
  },
  {
   "cell_type": "code",
   "execution_count": 16,
   "metadata": {},
   "outputs": [],
   "source": [
    "players_model_df['rates1'] = LogisticRegression(random_state = 42).fit(X_train, y_train).predict_proba(X_predict)[:, 1]\n",
    "players_model_df['rates1'] = players_model_df['rates1'].apply(lambda x: round(x, 3))"
   ]
  },
  {
   "cell_type": "code",
   "execution_count": 17,
   "metadata": {},
   "outputs": [],
   "source": [
    "assert players_model_df.groupby(['player_id'])['rates1'].nunique().sum() == players_model_df['player_id'].nunique()"
   ]
  },
  {
   "cell_type": "markdown",
   "metadata": {},
   "source": [
    "As we can see, way to user player_id in features dataset is not good, because final label depends only on player_id and fill same values to points. I think, as a variant use individual logistic regression for every person."
   ]
  },
  {
   "cell_type": "code",
   "execution_count": 18,
   "metadata": {},
   "outputs": [],
   "source": [
    "def train(players_list: list, train_questions: pd.DataFrame, players_model_df: pd.DataFrame) -> pd.DataFrame:\n",
    "    for player_id in tqdm(players_list):\n",
    "        X_tmp_train = train_questions.loc[\n",
    "            train_questions[\"player_id\"] == player_id, \"complexity\"\n",
    "        ].values\n",
    "        y_tmp_train = (\n",
    "            train_questions.loc[train_questions[\"player_id\"] == player_id, \"points\"]\n",
    "            .astype(\"int\")\n",
    "            .values\n",
    "        )\n",
    "        X_tmp_predict = players_model_df.loc[\n",
    "            players_model_df[\"player_id\"] == player_id, \"complexity\"\n",
    "        ].values\n",
    "        players_model_df.loc[players_model_df[\"player_id\"] == player_id, \"rates2\"] = (\n",
    "            LogisticRegression(random_state=42)\n",
    "            .fit(X_tmp_train.reshape(-1, 1), y_tmp_train)\n",
    "            .predict_proba(X_tmp_predict.reshape(-1, 1))[:, 1]\n",
    "        )\n",
    "    return players_model_df\n",
    "\n",
    "players_model_df = train(players_list, train_questions, players_model_df)"
   ]
  },
  {
   "cell_type": "code",
   "execution_count": 19,
   "metadata": {},
   "outputs": [],
   "source": [
    "players_model_df.to_csv(\"data/working/players_model_df.csv\", index=False)\n",
    "#players_model_df = pd.read_csv(\"data/working/players_model_df.csv\")"
   ]
  },
  {
   "cell_type": "markdown",
   "metadata": {},
   "source": [
    "Final rate of player - mean rate for every task complexity. It's will decsribe how he will work will average task. Now, we can display list of top-players:"
   ]
  },
  {
   "cell_type": "code",
   "execution_count": 20,
   "metadata": {},
   "outputs": [
    {
     "data": {
      "text/html": [
       "<div>\n",
       "<style scoped>\n",
       "    .dataframe tbody tr th:only-of-type {\n",
       "        vertical-align: middle;\n",
       "    }\n",
       "\n",
       "    .dataframe tbody tr th {\n",
       "        vertical-align: top;\n",
       "    }\n",
       "\n",
       "    .dataframe thead th {\n",
       "        text-align: right;\n",
       "    }\n",
       "</style>\n",
       "<table border=\"1\" class=\"dataframe\">\n",
       "  <thead>\n",
       "    <tr style=\"text-align: right;\">\n",
       "      <th></th>\n",
       "      <th>player_id</th>\n",
       "      <th>rates2</th>\n",
       "      <th>player_name</th>\n",
       "    </tr>\n",
       "  </thead>\n",
       "  <tbody>\n",
       "    <tr>\n",
       "      <th>0</th>\n",
       "      <td>121433</td>\n",
       "      <td>0.915940</td>\n",
       "      <td>София Романовна Савенко</td>\n",
       "    </tr>\n",
       "    <tr>\n",
       "      <th>1</th>\n",
       "      <td>186002</td>\n",
       "      <td>0.907916</td>\n",
       "      <td>Инга Андрисовна Лоренц</td>\n",
       "    </tr>\n",
       "    <tr>\n",
       "      <th>2</th>\n",
       "      <td>202410</td>\n",
       "      <td>0.903794</td>\n",
       "      <td>Валентина  Подюкова</td>\n",
       "    </tr>\n",
       "    <tr>\n",
       "      <th>3</th>\n",
       "      <td>133504</td>\n",
       "      <td>0.892291</td>\n",
       "      <td>София Евгеньевна Лебедева</td>\n",
       "    </tr>\n",
       "    <tr>\n",
       "      <th>4</th>\n",
       "      <td>170977</td>\n",
       "      <td>0.890857</td>\n",
       "      <td>Давид Сергеевич Кан</td>\n",
       "    </tr>\n",
       "    <tr>\n",
       "      <th>5</th>\n",
       "      <td>171845</td>\n",
       "      <td>0.890857</td>\n",
       "      <td>Михаил Владимирович Завьялов</td>\n",
       "    </tr>\n",
       "    <tr>\n",
       "      <th>6</th>\n",
       "      <td>215496</td>\n",
       "      <td>0.884946</td>\n",
       "      <td>Наталья  Артемьева</td>\n",
       "    </tr>\n",
       "    <tr>\n",
       "      <th>7</th>\n",
       "      <td>215497</td>\n",
       "      <td>0.884946</td>\n",
       "      <td>Екатерина  Горелова</td>\n",
       "    </tr>\n",
       "    <tr>\n",
       "      <th>8</th>\n",
       "      <td>215495</td>\n",
       "      <td>0.884946</td>\n",
       "      <td>Юлия  Крюкова</td>\n",
       "    </tr>\n",
       "    <tr>\n",
       "      <th>9</th>\n",
       "      <td>199963</td>\n",
       "      <td>0.874346</td>\n",
       "      <td>Елена Борисовна Бровченко</td>\n",
       "    </tr>\n",
       "  </tbody>\n",
       "</table>\n",
       "</div>"
      ],
      "text/plain": [
       "   player_id    rates2                   player_name\n",
       "0     121433  0.915940       София Романовна Савенко\n",
       "1     186002  0.907916        Инга Андрисовна Лоренц\n",
       "2     202410  0.903794           Валентина  Подюкова\n",
       "3     133504  0.892291     София Евгеньевна Лебедева\n",
       "4     170977  0.890857           Давид Сергеевич Кан\n",
       "5     171845  0.890857  Михаил Владимирович Завьялов\n",
       "6     215496  0.884946            Наталья  Артемьева\n",
       "7     215497  0.884946           Екатерина  Горелова\n",
       "8     215495  0.884946                 Юлия  Крюкова\n",
       "9     199963  0.874346     Елена Борисовна Бровченко"
      ]
     },
     "execution_count": 20,
     "metadata": {},
     "output_type": "execute_result"
    }
   ],
   "source": [
    "players_model_df2 = players_model_df.groupby(\"player_id\")[\"rates2\"].mean().reset_index()\n",
    "players_model_df2[\"player_name\"] = players_model_df2[\"player_id\"].apply(\n",
    "    lambda x: \" \".join([i for i in list(players[x].values())[1:] if i is not None])\n",
    ")\n",
    "players_model_df2.sort_values(by=\"rates2\", ascending=False).reset_index(drop=True).head(\n",
    "    10\n",
    ")"
   ]
  },
  {
   "cell_type": "markdown",
   "metadata": {},
   "source": [
    "### Team ranging and correlation:\n",
    "#### Team rate:\n",
    "As team rate let's take probability of correct prediction by one player in team: $P(team=1) = 1 - \\prod P(player=0)$."
   ]
  },
  {
   "cell_type": "code",
   "execution_count": 21,
   "metadata": {},
   "outputs": [],
   "source": [
    "team_rating_df = test_tournaments_df2.merge(\n",
    "    players_model_df2, on=\"player_id\", how=\"left\"\n",
    ")\n",
    "team_rating_df[\"inv_rates2\"] = 1 - team_rating_df[\"rates2\"]\n",
    "team_rating_df[\"team_rate\"] = 1 - team_rating_df.groupby(\n",
    "    [\"id\", \"name\", \"team_id\", \"team_name\", \"team_position\"]\n",
    ")[\"inv_rates2\"].transform(\"prod\")\n",
    "team_rating_df2 = team_rating_df[['id', 'team_id', 'team_position', 'team_rate']].drop_duplicates()\n",
    "team_rating_df2['team_rate'] = - team_rating_df2['team_rate']"
   ]
  },
  {
   "cell_type": "code",
   "execution_count": 22,
   "metadata": {},
   "outputs": [],
   "source": [
    "def estimate_correlation(team_rating_df: pd.DataFrame):\n",
    "    spearman = 0\n",
    "    kendall = 0\n",
    "    tours_list = team_rating_df['id'].drop_duplicates().to_list()\n",
    "    tours_num = len(tours_list)\n",
    "    for tour_id in tours_list:\n",
    "        tmp_df = team_rating_df[team_rating_df['id'] == tour_id]\n",
    "        tmp_spearman = sps.spearmanr(tmp_df['team_rate'].to_list(), tmp_df['team_position'].to_list())[0]\n",
    "        tmp_kendall = sps.kendalltau(tmp_df['team_rate'].to_list(), tmp_df['team_position'].to_list())[0]\n",
    "        if not (np.isnan(tmp_spearman) or np.isnan(tmp_kendall)):\n",
    "            spearman += tmp_spearman\n",
    "            kendall += tmp_kendall\n",
    "    return spearman / tours_num, kendall / tours_num"
   ]
  },
  {
   "cell_type": "code",
   "execution_count": 23,
   "metadata": {},
   "outputs": [
    {
     "name": "stdout",
     "output_type": "stream",
     "text": [
      "Spearman correlation on test dataset:  0.6933628862304252\n",
      "Kendall correlation on test dataset:  0.5396450864708623\n"
     ]
    }
   ],
   "source": [
    "results = estimate_correlation(team_rating_df2)\n",
    "print(\"Spearman correlation on test dataset: \", results[0])\n",
    "print(\"Kendall correlation on test dataset: \", results[1])"
   ]
  },
  {
   "cell_type": "markdown",
   "metadata": {},
   "source": [
    "### 4. EM-algorithm\n",
    "As dataset we will use dummy-dataframe with players and questions. Hidden variable here - comparison between probability of player and probability of team. When we are using linear regression player's weights will be more if player take more contribution to final probability."
   ]
  },
  {
   "cell_type": "markdown",
   "metadata": {},
   "source": [
    "Create dataset for test:"
   ]
  },
  {
   "cell_type": "code",
   "execution_count": 24,
   "metadata": {},
   "outputs": [],
   "source": [
    "test_dataset = team_rating_df[[\"id\", \"team_id\", \"team_position\", \"player_id\"]].drop_duplicates()"
   ]
  },
  {
   "cell_type": "markdown",
   "metadata": {},
   "source": [
    "And for train with hidden variable:"
   ]
  },
  {
   "cell_type": "markdown",
   "metadata": {},
   "source": [
    "Create variable state_prob - with we will estimate in every iteration, it's base value got from counting team probabilities based on baseline players probabilities:"
   ]
  },
  {
   "cell_type": "code",
   "execution_count": 25,
   "metadata": {},
   "outputs": [],
   "source": [
    "df1 = train_questions_raw[['id','player_id', 'points','question_id']].drop_duplicates()\n",
    "df2 = train_tournaments_df2[['id', 'team_id', 'player_id']].drop_duplicates()\n",
    "em_dataset = df1.merge(df2, on=['id', 'player_id'])"
   ]
  },
  {
   "cell_type": "code",
   "execution_count": 26,
   "metadata": {},
   "outputs": [],
   "source": [
    "eps = 1e-5\n",
    "\n",
    "state_prob = np.array(em_dataset['points'])\n",
    "state_prob = np.clip(state_prob, eps, 1-eps)"
   ]
  },
  {
   "cell_type": "markdown",
   "metadata": {},
   "source": [
    "Finally, we have train dataset..."
   ]
  },
  {
   "cell_type": "code",
   "execution_count": 27,
   "metadata": {},
   "outputs": [
    {
     "data": {
      "text/html": [
       "<div>\n",
       "<style scoped>\n",
       "    .dataframe tbody tr th:only-of-type {\n",
       "        vertical-align: middle;\n",
       "    }\n",
       "\n",
       "    .dataframe tbody tr th {\n",
       "        vertical-align: top;\n",
       "    }\n",
       "\n",
       "    .dataframe thead th {\n",
       "        text-align: right;\n",
       "    }\n",
       "</style>\n",
       "<table border=\"1\" class=\"dataframe\">\n",
       "  <thead>\n",
       "    <tr style=\"text-align: right;\">\n",
       "      <th></th>\n",
       "      <th>id</th>\n",
       "      <th>player_id</th>\n",
       "      <th>points</th>\n",
       "      <th>question_id</th>\n",
       "      <th>team_id</th>\n",
       "    </tr>\n",
       "  </thead>\n",
       "  <tbody>\n",
       "    <tr>\n",
       "      <th>0</th>\n",
       "      <td>4772</td>\n",
       "      <td>6212</td>\n",
       "      <td>1</td>\n",
       "      <td>4772000</td>\n",
       "      <td>45556</td>\n",
       "    </tr>\n",
       "    <tr>\n",
       "      <th>1</th>\n",
       "      <td>4772</td>\n",
       "      <td>6212</td>\n",
       "      <td>1</td>\n",
       "      <td>4772001</td>\n",
       "      <td>45556</td>\n",
       "    </tr>\n",
       "    <tr>\n",
       "      <th>2</th>\n",
       "      <td>4772</td>\n",
       "      <td>6212</td>\n",
       "      <td>1</td>\n",
       "      <td>4772002</td>\n",
       "      <td>45556</td>\n",
       "    </tr>\n",
       "    <tr>\n",
       "      <th>3</th>\n",
       "      <td>4772</td>\n",
       "      <td>6212</td>\n",
       "      <td>1</td>\n",
       "      <td>4772003</td>\n",
       "      <td>45556</td>\n",
       "    </tr>\n",
       "    <tr>\n",
       "      <th>4</th>\n",
       "      <td>4772</td>\n",
       "      <td>6212</td>\n",
       "      <td>1</td>\n",
       "      <td>4772004</td>\n",
       "      <td>45556</td>\n",
       "    </tr>\n",
       "  </tbody>\n",
       "</table>\n",
       "</div>"
      ],
      "text/plain": [
       "     id  player_id  points  question_id  team_id\n",
       "0  4772       6212       1      4772000    45556\n",
       "1  4772       6212       1      4772001    45556\n",
       "2  4772       6212       1      4772002    45556\n",
       "3  4772       6212       1      4772003    45556\n",
       "4  4772       6212       1      4772004    45556"
      ]
     },
     "execution_count": 27,
     "metadata": {},
     "output_type": "execute_result"
    }
   ],
   "source": [
    "em_df_X = em_dataset.copy()\n",
    "em_df_X[\"player_id\"] = em_df_X[\"player_id\"].astype(\"category\")\n",
    "em_df_X[\"question_id\"] = em_df_X[\"question_id\"].astype(\"category\")\n",
    "\n",
    "em_X = pd.get_dummies(em_df_X[[\"player_id\", \"question_id\"]], sparse = True)\n",
    "em_dataset.head()"
   ]
  },
  {
   "cell_type": "markdown",
   "metadata": {},
   "source": [
    "...Start probability..."
   ]
  },
  {
   "cell_type": "code",
   "execution_count": 28,
   "metadata": {},
   "outputs": [
    {
     "data": {
      "text/plain": [
       "array([9.9999e-01, 9.9999e-01, 9.9999e-01, ..., 1.0000e-05, 1.0000e-05,\n",
       "       1.0000e-05])"
      ]
     },
     "execution_count": 28,
     "metadata": {},
     "output_type": "execute_result"
    }
   ],
   "source": [
    "state_prob"
   ]
  },
  {
   "cell_type": "markdown",
   "metadata": {},
   "source": [
    "... dataset for evaluating."
   ]
  },
  {
   "cell_type": "code",
   "execution_count": 29,
   "metadata": {},
   "outputs": [
    {
     "data": {
      "text/html": [
       "<div>\n",
       "<style scoped>\n",
       "    .dataframe tbody tr th:only-of-type {\n",
       "        vertical-align: middle;\n",
       "    }\n",
       "\n",
       "    .dataframe tbody tr th {\n",
       "        vertical-align: top;\n",
       "    }\n",
       "\n",
       "    .dataframe thead th {\n",
       "        text-align: right;\n",
       "    }\n",
       "</style>\n",
       "<table border=\"1\" class=\"dataframe\">\n",
       "  <thead>\n",
       "    <tr style=\"text-align: right;\">\n",
       "      <th></th>\n",
       "      <th>id</th>\n",
       "      <th>team_id</th>\n",
       "      <th>team_position</th>\n",
       "      <th>player_id</th>\n",
       "    </tr>\n",
       "  </thead>\n",
       "  <tbody>\n",
       "    <tr>\n",
       "      <th>0</th>\n",
       "      <td>4957</td>\n",
       "      <td>49804</td>\n",
       "      <td>1.0</td>\n",
       "      <td>30152</td>\n",
       "    </tr>\n",
       "    <tr>\n",
       "      <th>1</th>\n",
       "      <td>4957</td>\n",
       "      <td>49804</td>\n",
       "      <td>1.0</td>\n",
       "      <td>30270</td>\n",
       "    </tr>\n",
       "    <tr>\n",
       "      <th>2</th>\n",
       "      <td>4957</td>\n",
       "      <td>49804</td>\n",
       "      <td>1.0</td>\n",
       "      <td>27822</td>\n",
       "    </tr>\n",
       "    <tr>\n",
       "      <th>3</th>\n",
       "      <td>4957</td>\n",
       "      <td>49804</td>\n",
       "      <td>1.0</td>\n",
       "      <td>28751</td>\n",
       "    </tr>\n",
       "    <tr>\n",
       "      <th>4</th>\n",
       "      <td>4957</td>\n",
       "      <td>49804</td>\n",
       "      <td>1.0</td>\n",
       "      <td>27403</td>\n",
       "    </tr>\n",
       "  </tbody>\n",
       "</table>\n",
       "</div>"
      ],
      "text/plain": [
       "     id  team_id  team_position  player_id\n",
       "0  4957    49804            1.0      30152\n",
       "1  4957    49804            1.0      30270\n",
       "2  4957    49804            1.0      27822\n",
       "3  4957    49804            1.0      28751\n",
       "4  4957    49804            1.0      27403"
      ]
     },
     "execution_count": 29,
     "metadata": {},
     "output_type": "execute_result"
    }
   ],
   "source": [
    "test_dataset.head()"
   ]
  },
  {
   "cell_type": "markdown",
   "metadata": {},
   "source": [
    "Create model:"
   ]
  },
  {
   "cell_type": "code",
   "execution_count": 30,
   "metadata": {},
   "outputs": [],
   "source": [
    "em_model = LinearRegression(n_jobs = -1)"
   ]
  },
  {
   "cell_type": "markdown",
   "metadata": {},
   "source": [
    "And start process:"
   ]
  },
  {
   "cell_type": "code",
   "execution_count": 31,
   "metadata": {},
   "outputs": [
    {
     "name": "stderr",
     "output_type": "stream",
     "text": [
      "  0%|          | 0/5 [00:00<?, ?it/s]"
     ]
    },
    {
     "name": "stdout",
     "output_type": "stream",
     "text": [
      "Spearman correlation on test dataset:  0.7592329624973166\n",
      "Kendall correlation on test dataset:  0.6133494162117403\n"
     ]
    },
    {
     "name": "stderr",
     "output_type": "stream",
     "text": [
      " 20%|██        | 1/5 [12:21<49:26, 741.69s/it]"
     ]
    },
    {
     "name": "stdout",
     "output_type": "stream",
     "text": [
      "------------------------------------------------------\n",
      "Spearman correlation on test dataset:  0.7770867644092331\n",
      "Kendall correlation on test dataset:  0.622830311225666\n"
     ]
    },
    {
     "name": "stderr",
     "output_type": "stream",
     "text": [
      " 40%|████      | 2/5 [25:44<38:53, 777.85s/it]"
     ]
    },
    {
     "name": "stdout",
     "output_type": "stream",
     "text": [
      "------------------------------------------------------\n",
      "Spearman correlation on test dataset:  0.7833818807504254\n",
      "Kendall correlation on test dataset:  0.6255272200365398\n"
     ]
    },
    {
     "name": "stderr",
     "output_type": "stream",
     "text": [
      " 60%|██████    | 3/5 [38:15<25:30, 765.30s/it]"
     ]
    },
    {
     "name": "stdout",
     "output_type": "stream",
     "text": [
      "------------------------------------------------------\n",
      "Spearman correlation on test dataset:  0.7810814696268344\n",
      "Kendall correlation on test dataset:  0.623784735049618\n"
     ]
    },
    {
     "name": "stderr",
     "output_type": "stream",
     "text": [
      " 80%|████████  | 4/5 [50:43<12:38, 758.41s/it]"
     ]
    },
    {
     "name": "stdout",
     "output_type": "stream",
     "text": [
      "------------------------------------------------------\n",
      "Spearman correlation on test dataset:  0.7815176119137353\n",
      "Kendall correlation on test dataset:  0.6240074003217699\n"
     ]
    },
    {
     "name": "stderr",
     "output_type": "stream",
     "text": [
      "100%|██████████| 5/5 [1:03:19<00:00, 759.85s/it]"
     ]
    },
    {
     "name": "stdout",
     "output_type": "stream",
     "text": [
      "------------------------------------------------------\n"
     ]
    },
    {
     "name": "stderr",
     "output_type": "stream",
     "text": [
      "\n"
     ]
    }
   ],
   "source": [
    "for _ in tqdm(range(5)):\n",
    "\n",
    "    em_model.fit(em_X, logit(state_prob))\n",
    "    # test and count correlation\n",
    "    em_players = [int(i.split(\"_\")[-1]) for i in em_X.columns if \"player_id\" in i]\n",
    "    em_coefs = em_model.coef_[: len(em_players)]\n",
    "    em_probs = [1 / (1 + np.exp(-i)) for i in em_coefs]\n",
    "    df_with_player_probs = pd.DataFrame(\n",
    "        {\"player_id\": em_players, \"coefs\": em_coefs, \"probs\": em_probs}\n",
    "    )\n",
    "    test_dataset2 = (\n",
    "        test_dataset[[\"id\", \"team_id\", \"team_position\", \"player_id\"]]\n",
    "        .drop_duplicates()\n",
    "        .merge(df_with_player_probs, on=\"player_id\")\n",
    "    )\n",
    "    test_dataset2[\"inv_probs\"] = 1 - test_dataset2[\"probs\"]\n",
    "    test_dataset2[\"team_rate\"] = 1 - (\n",
    "        test_dataset2.groupby([\"id\", \"team_id\", \"team_position\"])[\"inv_probs\"]\n",
    "        .transform('prod')\n",
    "    )\n",
    "    test_dataset2 = test_dataset2[\n",
    "        [\"id\", \"team_id\", \"team_position\", \"team_rate\"]\n",
    "    ].drop_duplicates()\n",
    "    test_dataset2[\"team_rate\"] = -test_dataset2[\"team_rate\"]\n",
    "\n",
    "    results = estimate_correlation(test_dataset2)\n",
    "    print(\"Spearman correlation on test dataset: \", results[0])\n",
    "    print(\"Kendall correlation on test dataset: \", results[1])\n",
    "\n",
    "    state_prob = expit(em_model.predict(em_X))\n",
    "    em_dataset2 = em_dataset.copy()\n",
    "    em_dataset2[\"prob\"] = state_prob\n",
    "    em_dataset2[\"inv_prob\"] = 1 - em_dataset2[\"prob\"]\n",
    "    em_dataset2 = em_dataset2.merge(\n",
    "        em_dataset2.groupby([\"question_id\", \"team_id\"])[\"inv_prob\"].prod().rename(\"Z\"),\n",
    "        left_on=[\"question_id\", \"team_id\"],\n",
    "        right_index=True,\n",
    "    )\n",
    "    em_dataset2[\"Z\"] = em_dataset2[\"prob\"] / (1 - em_dataset2[\"Z\"])\n",
    "    em_dataset2[\"Z\"] = em_dataset2[\"Z\"] * em_dataset2[\"points\"]\n",
    "    state_prob = np.clip(em_dataset2[\"Z\"], eps, 1 - eps)\n",
    "    print(\"------------------------------------------------------\")"
   ]
  },
  {
   "cell_type": "markdown",
   "metadata": {},
   "source": [
    "#### Show top-10 tournaments with largest complexity:"
   ]
  },
  {
   "cell_type": "code",
   "execution_count": 65,
   "metadata": {},
   "outputs": [],
   "source": [
    "em_questions = [int(i.split(\"_\")[-1]) for i in em_X.columns if \"question_id\" in i]\n",
    "em_question_coefs = em_model.coef_[-len(em_questions):]\n",
    "em_question_probs = [1 / (1 + np.exp(-i)) for i in em_question_coefs]"
   ]
  },
  {
   "cell_type": "code",
   "execution_count": 66,
   "metadata": {},
   "outputs": [],
   "source": [
    "questions_rating_df = pd.DataFrame(\n",
    "    {\n",
    "        \"question_id\": em_questions,\n",
    "        \"coefs\": em_question_coefs,\n",
    "        \"probs\": em_question_probs,\n",
    "    }\n",
    ")"
   ]
  },
  {
   "cell_type": "code",
   "execution_count": 67,
   "metadata": {},
   "outputs": [],
   "source": [
    "questions_rating_df[\"tournament_id\"] = questions_rating_df[\"question_id\"].apply(\n",
    "    lambda x: int(x / 1000)\n",
    ")"
   ]
  },
  {
   "cell_type": "code",
   "execution_count": 68,
   "metadata": {},
   "outputs": [],
   "source": [
    "top_10_df = (\n",
    "    questions_rating_df.groupby(\"tournament_id\")[\"probs\"]\n",
    "    .mean()\n",
    "    .reset_index()\n",
    "    .sort_values(by=\"probs\", ascending=True)\n",
    "    .reset_index(drop=True)\n",
    "    .head(10)\n",
    ")\n",
    "top_10_df['name'] = top_10_df[\"tournament_id\"].apply(lambda x: tournaments[x]['name'])"
   ]
  },
  {
   "cell_type": "code",
   "execution_count": 69,
   "metadata": {},
   "outputs": [
    {
     "data": {
      "text/html": [
       "<div>\n",
       "<style scoped>\n",
       "    .dataframe tbody tr th:only-of-type {\n",
       "        vertical-align: middle;\n",
       "    }\n",
       "\n",
       "    .dataframe tbody tr th {\n",
       "        vertical-align: top;\n",
       "    }\n",
       "\n",
       "    .dataframe thead th {\n",
       "        text-align: right;\n",
       "    }\n",
       "</style>\n",
       "<table border=\"1\" class=\"dataframe\">\n",
       "  <thead>\n",
       "    <tr style=\"text-align: right;\">\n",
       "      <th></th>\n",
       "      <th>tournament_id</th>\n",
       "      <th>probs</th>\n",
       "      <th>name</th>\n",
       "    </tr>\n",
       "  </thead>\n",
       "  <tbody>\n",
       "    <tr>\n",
       "      <th>0</th>\n",
       "      <td>5928</td>\n",
       "      <td>0.026003</td>\n",
       "      <td>Угрюмый Ёрш</td>\n",
       "    </tr>\n",
       "    <tr>\n",
       "      <th>1</th>\n",
       "      <td>5684</td>\n",
       "      <td>0.037090</td>\n",
       "      <td>Синхрон высшей лиги Москвы</td>\n",
       "    </tr>\n",
       "    <tr>\n",
       "      <th>2</th>\n",
       "      <td>5159</td>\n",
       "      <td>0.042181</td>\n",
       "      <td>Первенство правого полушария</td>\n",
       "    </tr>\n",
       "    <tr>\n",
       "      <th>3</th>\n",
       "      <td>6101</td>\n",
       "      <td>0.044674</td>\n",
       "      <td>Воображаемый музей</td>\n",
       "    </tr>\n",
       "    <tr>\n",
       "      <th>4</th>\n",
       "      <td>5693</td>\n",
       "      <td>0.053202</td>\n",
       "      <td>Знание – Сила VI</td>\n",
       "    </tr>\n",
       "    <tr>\n",
       "      <th>5</th>\n",
       "      <td>5587</td>\n",
       "      <td>0.055778</td>\n",
       "      <td>Записки охотника</td>\n",
       "    </tr>\n",
       "    <tr>\n",
       "      <th>6</th>\n",
       "      <td>5083</td>\n",
       "      <td>0.059257</td>\n",
       "      <td>Ускользающая сова</td>\n",
       "    </tr>\n",
       "    <tr>\n",
       "      <th>7</th>\n",
       "      <td>5943</td>\n",
       "      <td>0.063342</td>\n",
       "      <td>Чемпионат Мира. Этап 2 Группа С</td>\n",
       "    </tr>\n",
       "    <tr>\n",
       "      <th>8</th>\n",
       "      <td>5942</td>\n",
       "      <td>0.064180</td>\n",
       "      <td>Чемпионат Мира. Этап 2. Группа В</td>\n",
       "    </tr>\n",
       "    <tr>\n",
       "      <th>9</th>\n",
       "      <td>5465</td>\n",
       "      <td>0.066711</td>\n",
       "      <td>Чемпионат России</td>\n",
       "    </tr>\n",
       "  </tbody>\n",
       "</table>\n",
       "</div>"
      ],
      "text/plain": [
       "   tournament_id     probs                              name\n",
       "0           5928  0.026003                       Угрюмый Ёрш\n",
       "1           5684  0.037090        Синхрон высшей лиги Москвы\n",
       "2           5159  0.042181      Первенство правого полушария\n",
       "3           6101  0.044674                Воображаемый музей\n",
       "4           5693  0.053202                  Знание – Сила VI\n",
       "5           5587  0.055778                  Записки охотника\n",
       "6           5083  0.059257                 Ускользающая сова\n",
       "7           5943  0.063342   Чемпионат Мира. Этап 2 Группа С\n",
       "8           5942  0.064180  Чемпионат Мира. Этап 2. Группа В\n",
       "9           5465  0.066711                  Чемпионат России"
      ]
     },
     "execution_count": 69,
     "metadata": {},
     "output_type": "execute_result"
    }
   ],
   "source": [
    "top_10_df"
   ]
  },
  {
   "cell_type": "markdown",
   "metadata": {},
   "source": [
    "#### Final thoughts:\n",
    "1. Baseline model estimate ability of each player to solve questions with differents complexities;\n",
    "2. EM-model correct idea and trained on hidden information about players, teams and questions;\n",
    "3. EM-model improved correlation metrics;\n",
    "4. At results we can see in top some tournaments from big cities and world stages. "
   ]
  }
 ],
 "metadata": {
  "kernelspec": {
   "display_name": "Python 3",
   "language": "python",
   "name": "python3"
  },
  "language_info": {
   "codemirror_mode": {
    "name": "ipython",
    "version": 3
   },
   "file_extension": ".py",
   "mimetype": "text/x-python",
   "name": "python",
   "nbconvert_exporter": "python",
   "pygments_lexer": "ipython3",
   "version": "3.7.3"
  },
  "toc": {
   "base_numbering": 1,
   "nav_menu": {},
   "number_sections": false,
   "sideBar": false,
   "skip_h1_title": false,
   "title_cell": "Table of Contents",
   "title_sidebar": "Contents",
   "toc_cell": false,
   "toc_position": {},
   "toc_section_display": false,
   "toc_window_display": false
  }
 },
 "nbformat": 4,
 "nbformat_minor": 4
}
