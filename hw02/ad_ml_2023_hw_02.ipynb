{
 "cells": [
  {
   "cell_type": "code",
   "execution_count": 2,
   "metadata": {},
   "outputs": [],
   "source": [
    "import numpy as np\n",
    "import pandas as pd\n",
    "import math\n",
    "import re\n",
    "import scipy.stats as sps\n",
    "from tqdm import tqdm\n",
    "from datetime import datetime, date\n",
    "import pickle\n",
    "from sklearn.linear_model import LogisticRegression\n",
    "\n",
    "import warnings\n",
    "warnings.filterwarnings(\"ignore\")"
   ]
  },
  {
   "cell_type": "code",
   "execution_count": 3,
   "metadata": {},
   "outputs": [
    {
     "name": "stdout",
     "output_type": "stream",
     "text": [
      "players.pkl  results.pkl  tournaments.pkl  working\r\n"
     ]
    }
   ],
   "source": [
    "!ls data"
   ]
  },
  {
   "cell_type": "code",
   "execution_count": 4,
   "metadata": {},
   "outputs": [],
   "source": [
    "DIR = \"data/\""
   ]
  },
  {
   "cell_type": "code",
   "execution_count": 5,
   "metadata": {},
   "outputs": [
    {
     "name": "stdout",
     "output_type": "stream",
     "text": [
      "CPU times: user 12.8 s, sys: 2.71 s, total: 15.5 s\n",
      "Wall time: 15.5 s\n"
     ]
    }
   ],
   "source": [
    "%%time\n",
    "players = pd.read_pickle(DIR + \"players.pkl\") \n",
    "results = pd.read_pickle(DIR + \"results.pkl\")\n",
    "tournaments = pd.read_pickle(DIR + \"tournaments.pkl\")"
   ]
  },
  {
   "cell_type": "code",
   "execution_count": 6,
   "metadata": {},
   "outputs": [],
   "source": [
    "# split tournaments to train/test\n",
    "tournaments_df = pd.DataFrame.from_dict(\n",
    "    tournaments, orient=\"index\", columns=[\"id\", \"name\", \"dateStart\"]\n",
    ")\n",
    "tournaments_df[\"dateStart\"] = pd.to_datetime(tournaments_df[\"dateStart\"]).apply(lambda x: x.date())\n",
    "train_tournaments_df = tournaments_df[\n",
    "    (tournaments_df[\"dateStart\"] >= date(2019, 1, 1))\n",
    "    & (tournaments_df[\"dateStart\"] <= date(2019, 12, 31))\n",
    "]\n",
    "test_tournaments_df = tournaments_df[\n",
    "    (tournaments_df[\"dateStart\"] >= date(2020, 1, 1))\n",
    "    & (tournaments_df[\"dateStart\"] <= date(2020, 12, 31))\n",
    "]"
   ]
  },
  {
   "cell_type": "code",
   "execution_count": 7,
   "metadata": {},
   "outputs": [],
   "source": [
    "# now, we need to filter data with results\n",
    "def filter(tour_id: int):\n",
    "    result = results[tour_id]\n",
    "    masks = []\n",
    "    team_ids = []\n",
    "    team_names = []\n",
    "    team_position = []\n",
    "    player_ids = []\n",
    "    player_names = []\n",
    "    for team in result:\n",
    "        questionsTotal = team.get(\"questionsTotal\")\n",
    "        if questionsTotal is None:\n",
    "            continue\n",
    "        if questionsTotal <= 0:\n",
    "            continue\n",
    "        position = team.get(\"position\")\n",
    "        if position is None:\n",
    "            continue\n",
    "        masks.append(team.get(\"mask\").replace(\"X\", \"0\").replace(\"?\", \"0\"))\n",
    "        team_ids.append(team[\"team\"][\"id\"])\n",
    "        team_names.append(team[\"team\"][\"name\"])\n",
    "        team_position.append(position)\n",
    "        player_ids.append([player[\"player\"][\"id\"] for player in team[\"teamMembers\"]])\n",
    "        player_names.append(\n",
    "            [\n",
    "                \"{} {} {}\".format(\n",
    "                    player[\"player\"][\"surname\"],\n",
    "                    player[\"player\"][\"name\"],\n",
    "                    player[\"player\"][\"patronymic\"],\n",
    "                )\n",
    "                for player in team[\"teamMembers\"]\n",
    "            ]\n",
    "        )\n",
    "\n",
    "    return masks, team_ids, team_names, team_position, player_ids, player_names\n",
    "\n",
    "\n",
    "def update_dataframe(dataframe: pd.DataFrame):\n",
    "    (\n",
    "        dataframe[\"mask\"],\n",
    "        dataframe[\"team_id\"],\n",
    "        dataframe[\"team_name\"],\n",
    "        dataframe[\"team_position\"],\n",
    "        dataframe[\"player_id\"],\n",
    "        dataframe[\"player_name\"],\n",
    "    ) = zip(*dataframe[\"id\"].apply(filter))\n",
    "    dataframe = (\n",
    "        dataframe.explode(\n",
    "            [\n",
    "                \"mask\",\n",
    "                \"team_id\",\n",
    "                \"team_name\",\n",
    "                \"team_position\",\n",
    "                \"player_id\",\n",
    "                \"player_name\",\n",
    "            ]\n",
    "        )\n",
    "        .explode([\"player_id\", \"player_name\"])\n",
    "        .reset_index(drop=True)\n",
    "    )\n",
    "    dataframe.dropna(inplace=True)\n",
    "    dataframe[\"mask_len\"] = dataframe[\"mask\"].apply(len)\n",
    "    dataframe = dataframe.merge(\n",
    "        dataframe.groupby(\"id\")[\"mask_len\"].max().rename(\"max_len\"),\n",
    "        left_on=\"id\",\n",
    "        right_index=True,\n",
    "    )\n",
    "    dataframe = dataframe[dataframe[\"mask_len\"] == dataframe[\"max_len\"]].reset_index(\n",
    "        drop=True\n",
    "    )\n",
    "    dataframe = dataframe[\n",
    "        [\n",
    "            \"id\",\n",
    "            \"name\",\n",
    "            \"team_id\",\n",
    "            \"team_name\",\n",
    "            \"team_position\",\n",
    "            \"player_id\",\n",
    "            \"player_name\",\n",
    "            \"mask\",\n",
    "            \"mask_len\",\n",
    "        ]\n",
    "    ]\n",
    "    return dataframe"
   ]
  },
  {
   "cell_type": "code",
   "execution_count": 8,
   "metadata": {},
   "outputs": [
    {
     "name": "stdout",
     "output_type": "stream",
     "text": [
      "CPU times: user 1.35 s, sys: 127 ms, total: 1.48 s\n",
      "Wall time: 1.48 s\n"
     ]
    }
   ],
   "source": [
    "%%time\n",
    "train_tournaments_df2 = update_dataframe(train_tournaments_df)\n",
    "test_tournaments_df2 = update_dataframe(test_tournaments_df)\n",
    "train_tournaments_df2.to_csv(\"data/working/train_tournaments_df2.csv\", index=False)\n",
    "test_tournaments_df2.to_csv(\"data/working/test_tournaments_df2.csv\", index=False)\n",
    "# train_tournaments_df2 = pd.read_csv(\"data/working/train_tournaments_df2.csv\")\n",
    "# test_tournaments_df2 = pd.read_csv(\"data/working/test_tournaments_df2.csv\")"
   ]
  },
  {
   "cell_type": "markdown",
   "metadata": {},
   "source": [
    "#### Now, we need to create raw data about player/question stats (After all we add question rating to their indexes)"
   ]
  },
  {
   "cell_type": "code",
   "execution_count": 9,
   "metadata": {},
   "outputs": [],
   "source": [
    "def questions_dataframe(dataframe: pd.DataFrame) -> pd.DataFrame:\n",
    "    tmp_df = dataframe[['id', 'mask', 'mask_len', 'player_id']]\n",
    "    tmp_df['points'] = tmp_df['mask'].apply(lambda x: [int(i) for i in x])\n",
    "    \n",
    "    tmp_df['question_id'] = tmp_df.apply(lambda x: [(x.id * 10 ** 3 + i) for i in range(x.mask_len)], axis=1)\n",
    "    tmp_df2 = tmp_df.explode(['points', 'question_id'])\n",
    "    return tmp_df2"
   ]
  },
  {
   "cell_type": "code",
   "execution_count": 10,
   "metadata": {},
   "outputs": [
    {
     "name": "stdout",
     "output_type": "stream",
     "text": [
      "CPU times: user 14.9 s, sys: 2.2 s, total: 17.1 s\n",
      "Wall time: 17.1 s\n"
     ]
    }
   ],
   "source": [
    "%%time\n",
    "train_questions_raw = questions_dataframe(train_tournaments_df2)\n",
    "test_questions_raw = questions_dataframe(test_tournaments_df2)\n",
    "train_questions_raw.to_csv(\"data/working/train_questions_raw.csv\", index=False)\n",
    "test_questions_raw.to_csv(\"data/working/test_questions_raw.csv\", index=False)\n",
    "# train_questions_raw = pd.read_csv(\"data/working/train_questions_raw.csv\")\n",
    "# test_questions_raw = pd.read_csv(\"data/working/test_questions_raw.csv\")"
   ]
  },
  {
   "cell_type": "markdown",
   "metadata": {},
   "source": [
    "#### As question complexity we can use share of correct answers:"
   ]
  },
  {
   "cell_type": "code",
   "execution_count": 11,
   "metadata": {},
   "outputs": [],
   "source": [
    "def complexity_estimation(dataframe: pd.DataFrame) -> pd.DataFrame:\n",
    "    tmp_df = dataframe[['player_id', 'points', 'question_id']]\n",
    "    tmp_df['correct'] = tmp_df.groupby('question_id')['points'].transform('sum')\n",
    "    tmp_df['total'] = tmp_df.groupby('question_id')['points'].transform('count')\n",
    "    tmp_df['complexity'] = tmp_df['correct'] / tmp_df['total']  \n",
    "    \n",
    "    return tmp_df[['player_id', 'question_id', 'complexity', 'points']]"
   ]
  },
  {
   "cell_type": "code",
   "execution_count": 12,
   "metadata": {},
   "outputs": [
    {
     "name": "stdout",
     "output_type": "stream",
     "text": [
      "CPU times: user 11.3 s, sys: 2.95 s, total: 14.2 s\n",
      "Wall time: 14.2 s\n"
     ]
    }
   ],
   "source": [
    "%%time\n",
    "train_questions = complexity_estimation(train_questions_raw)\n",
    "test_questions = complexity_estimation(test_questions_raw)\n",
    "train_questions.to_csv(\"data/working/train_questions.csv\", index=False)\n",
    "test_questions.to_csv(\"data/working/test_questions.csv\", index=False)\n",
    "# train_questions = pd.read_csv(\"data/working/train_questions.csv\")\n",
    "# test_questions = pd.read_csv(\"data/working/train_questions.csv\")"
   ]
  },
  {
   "cell_type": "markdown",
   "metadata": {},
   "source": [
    "#### We can start to work with first baseline - analyse how player work with question depends on its complexity\n",
    "About realisation - we can use personal LogisticRegression for each player or total, but player_id will be a part of features. Above, we create datasets to train and predict. \n",
    "1. Train - pairs player_id - complexity in train dataset;\n",
    "2. Test - pairs player_id and range complexity to predict individual ability of player to work with tasks with different complexity."
   ]
  },
  {
   "cell_type": "code",
   "execution_count": 13,
   "metadata": {},
   "outputs": [],
   "source": [
    "X_train = train_questions[['player_id', 'complexity']].values\n",
    "y_train = train_questions['points'].astype('int').values"
   ]
  },
  {
   "cell_type": "code",
   "execution_count": 14,
   "metadata": {},
   "outputs": [
    {
     "name": "stdout",
     "output_type": "stream",
     "text": [
      "CPU times: user 729 ms, sys: 291 ms, total: 1.02 s\n",
      "Wall time: 1.02 s\n"
     ]
    }
   ],
   "source": [
    "%%time\n",
    "players_model_df = pd.DataFrame(players.keys(), columns=['player_id'])\n",
    "players_model_df['complexity'] = [np.arange(0, 1, 0.05).tolist()] * players_model_df.shape[0]\n",
    "players_model_df = players_model_df.explode('complexity')\n",
    "players_model_df = players_model_df[players_model_df['player_id'].isin(train_questions['player_id'])]\n",
    "X_predict = players_model_df[['player_id', 'complexity']].values"
   ]
  },
  {
   "cell_type": "code",
   "execution_count": 15,
   "metadata": {},
   "outputs": [],
   "source": [
    "players_list = players_model_df['player_id'].drop_duplicates().to_list()"
   ]
  },
  {
   "cell_type": "markdown",
   "metadata": {},
   "source": [
    "Firstly, try to user player_id and complexity as features value:"
   ]
  },
  {
   "cell_type": "code",
   "execution_count": 16,
   "metadata": {},
   "outputs": [],
   "source": [
    "players_model_df['rates1'] = LogisticRegression(random_state = 42).fit(X_train, y_train).predict_proba(X_predict)[:, 1]\n",
    "players_model_df['rates1'] = players_model_df['rates1'].apply(lambda x: round(x, 3))"
   ]
  },
  {
   "cell_type": "code",
   "execution_count": 17,
   "metadata": {},
   "outputs": [],
   "source": [
    "assert players_model_df.groupby(['player_id'])['rates1'].nunique().sum() == players_model_df['player_id'].nunique()"
   ]
  },
  {
   "cell_type": "markdown",
   "metadata": {},
   "source": [
    "As we can see, way to user player_id in features dataset is not good, because final label depends only on player_id and fill same values to points. I think, as a variant use individual logistic regression for every person."
   ]
  },
  {
   "cell_type": "code",
   "execution_count": 18,
   "metadata": {},
   "outputs": [],
   "source": [
    "def train(players_list: list, train_questions: pd.DataFrame, players_model_df: pd.DataFrame) -> pd.DataFrame:\n",
    "    for player_id in tqdm(players_list):\n",
    "        X_tmp_train = train_questions.loc[\n",
    "            train_questions[\"player_id\"] == player_id, \"complexity\"\n",
    "        ].values\n",
    "        y_tmp_train = (\n",
    "            train_questions.loc[train_questions[\"player_id\"] == player_id, \"points\"]\n",
    "            .astype(\"int\")\n",
    "            .values\n",
    "        )\n",
    "        X_tmp_predict = players_model_df.loc[\n",
    "            players_model_df[\"player_id\"] == player_id, \"complexity\"\n",
    "        ].values\n",
    "        players_model_df.loc[players_model_df[\"player_id\"] == player_id, \"rates2\"] = (\n",
    "            LogisticRegression(random_state=42)\n",
    "            .fit(X_tmp_train.reshape(-1, 1), y_tmp_train)\n",
    "            .predict_proba(X_tmp_predict.reshape(-1, 1))[:, 1]\n",
    "        )\n",
    "    return players_model_df\n",
    "\n",
    "players_model_df = train(players_list, train_questions, players_model_df)"
   ]
  },
  {
   "cell_type": "code",
   "execution_count": 19,
   "metadata": {},
   "outputs": [],
   "source": [
    "players_model_df.to_csv(\"data/working/players_model_df.csv\", index=False)\n",
    "# players_model_df = pd.read_csv(\"data/working/players_model_df.csv\")"
   ]
  },
  {
   "cell_type": "markdown",
   "metadata": {},
   "source": [
    "Final rate of player - mean rate for every task complexity. It's will decsribe how he will work will average task. Now, we can display list of top-players:"
   ]
  },
  {
   "cell_type": "code",
   "execution_count": 20,
   "metadata": {},
   "outputs": [
    {
     "data": {
      "text/html": [
       "<div>\n",
       "<style scoped>\n",
       "    .dataframe tbody tr th:only-of-type {\n",
       "        vertical-align: middle;\n",
       "    }\n",
       "\n",
       "    .dataframe tbody tr th {\n",
       "        vertical-align: top;\n",
       "    }\n",
       "\n",
       "    .dataframe thead th {\n",
       "        text-align: right;\n",
       "    }\n",
       "</style>\n",
       "<table border=\"1\" class=\"dataframe\">\n",
       "  <thead>\n",
       "    <tr style=\"text-align: right;\">\n",
       "      <th></th>\n",
       "      <th>player_id</th>\n",
       "      <th>rates2</th>\n",
       "      <th>player_name</th>\n",
       "    </tr>\n",
       "  </thead>\n",
       "  <tbody>\n",
       "    <tr>\n",
       "      <th>0</th>\n",
       "      <td>121433</td>\n",
       "      <td>0.915940</td>\n",
       "      <td>София Романовна Савенко</td>\n",
       "    </tr>\n",
       "    <tr>\n",
       "      <th>1</th>\n",
       "      <td>186002</td>\n",
       "      <td>0.907916</td>\n",
       "      <td>Инга Андрисовна Лоренц</td>\n",
       "    </tr>\n",
       "    <tr>\n",
       "      <th>2</th>\n",
       "      <td>202410</td>\n",
       "      <td>0.903794</td>\n",
       "      <td>Валентина  Подюкова</td>\n",
       "    </tr>\n",
       "    <tr>\n",
       "      <th>3</th>\n",
       "      <td>133504</td>\n",
       "      <td>0.892291</td>\n",
       "      <td>София Евгеньевна Лебедева</td>\n",
       "    </tr>\n",
       "    <tr>\n",
       "      <th>4</th>\n",
       "      <td>170977</td>\n",
       "      <td>0.890857</td>\n",
       "      <td>Давид Сергеевич Кан</td>\n",
       "    </tr>\n",
       "    <tr>\n",
       "      <th>5</th>\n",
       "      <td>171845</td>\n",
       "      <td>0.890857</td>\n",
       "      <td>Михаил Владимирович Завьялов</td>\n",
       "    </tr>\n",
       "    <tr>\n",
       "      <th>6</th>\n",
       "      <td>215496</td>\n",
       "      <td>0.884946</td>\n",
       "      <td>Наталья  Артемьева</td>\n",
       "    </tr>\n",
       "    <tr>\n",
       "      <th>7</th>\n",
       "      <td>215497</td>\n",
       "      <td>0.884946</td>\n",
       "      <td>Екатерина  Горелова</td>\n",
       "    </tr>\n",
       "    <tr>\n",
       "      <th>8</th>\n",
       "      <td>215495</td>\n",
       "      <td>0.884946</td>\n",
       "      <td>Юлия  Крюкова</td>\n",
       "    </tr>\n",
       "    <tr>\n",
       "      <th>9</th>\n",
       "      <td>199963</td>\n",
       "      <td>0.874346</td>\n",
       "      <td>Елена Борисовна Бровченко</td>\n",
       "    </tr>\n",
       "  </tbody>\n",
       "</table>\n",
       "</div>"
      ],
      "text/plain": [
       "   player_id    rates2                   player_name\n",
       "0     121433  0.915940       София Романовна Савенко\n",
       "1     186002  0.907916        Инга Андрисовна Лоренц\n",
       "2     202410  0.903794           Валентина  Подюкова\n",
       "3     133504  0.892291     София Евгеньевна Лебедева\n",
       "4     170977  0.890857           Давид Сергеевич Кан\n",
       "5     171845  0.890857  Михаил Владимирович Завьялов\n",
       "6     215496  0.884946            Наталья  Артемьева\n",
       "7     215497  0.884946           Екатерина  Горелова\n",
       "8     215495  0.884946                 Юлия  Крюкова\n",
       "9     199963  0.874346     Елена Борисовна Бровченко"
      ]
     },
     "execution_count": 20,
     "metadata": {},
     "output_type": "execute_result"
    }
   ],
   "source": [
    "players_model_df2 = players_model_df.groupby(\"player_id\")[\"rates2\"].mean().reset_index()\n",
    "players_model_df2[\"player_name\"] = players_model_df2[\"player_id\"].apply(\n",
    "    lambda x: \" \".join([i for i in list(players[x].values())[1:] if i is not None])\n",
    ")\n",
    "players_model_df2.sort_values(by=\"rates2\", ascending=False).reset_index(drop=True).head(\n",
    "    10\n",
    ")"
   ]
  },
  {
   "cell_type": "markdown",
   "metadata": {},
   "source": [
    "As team rate let's take probability of correct prediction by one player in team: $P(team=1) = 1 - \\prod P(player=0)$"
   ]
  },
  {
   "cell_type": "code",
   "execution_count": 21,
   "metadata": {},
   "outputs": [],
   "source": [
    "team_rating_df = test_tournaments_df2.merge(\n",
    "    players_model_df2, on=\"player_id\", how=\"left\"\n",
    ")\n",
    "team_rating_df[\"inv_rates2\"] = 1 - team_rating_df[\"rates2\"]\n",
    "team_rating_df[\"team_rate\"] = 1 - team_rating_df.groupby(\n",
    "    [\"id\", \"name\", \"team_id\", \"team_name\", \"team_position\"]\n",
    ")[\"inv_rates2\"].transform(\"prod\")\n",
    "team_rating_df2 = team_rating_df[['id', 'team_id', 'team_position', 'team_rate']].drop_duplicates()\n",
    "team_rating_df2['team_rate'] = - team_rating_df2['team_rate']"
   ]
  },
  {
   "cell_type": "code",
   "execution_count": 22,
   "metadata": {},
   "outputs": [],
   "source": [
    "def estimate_correlation(team_rating_df: pd.DataFrame):\n",
    "    spearman = 0\n",
    "    kendall = 0\n",
    "    tours_list = team_rating_df['id'].drop_duplicates().to_list()\n",
    "    tours_num = len(tours_list)\n",
    "    for tour_id in tours_list:\n",
    "        tmp_df = team_rating_df[team_rating_df['id'] == tour_id]\n",
    "        tmp_spearman = sps.spearmanr(tmp_df['team_rate'].to_list(), tmp_df['team_position'].to_list())[0]\n",
    "        tmp_kendall = sps.kendalltau(tmp_df['team_rate'].to_list(), tmp_df['team_position'].to_list())[0]\n",
    "        if not (np.isnan(tmp_spearman) or np.isnan(tmp_kendall)):\n",
    "            spearman += tmp_spearman\n",
    "            kendall += tmp_kendall\n",
    "    return spearman / tours_num, kendall / tours_num"
   ]
  },
  {
   "cell_type": "code",
   "execution_count": 23,
   "metadata": {},
   "outputs": [
    {
     "name": "stdout",
     "output_type": "stream",
     "text": [
      "Spearman correlation on test dataset:  0.6933628862304252\n",
      "Kendall correlation on test dataset:  0.5396450864708623\n"
     ]
    }
   ],
   "source": [
    "results = estimate_correlation(team_rating_df2)\n",
    "print(\"Spearman correlation on test dataset: \", results[0])\n",
    "print(\"Kendall correlation on test dataset: \", results[1])"
   ]
  },
  {
   "cell_type": "code",
   "execution_count": null,
   "metadata": {},
   "outputs": [],
   "source": []
  }
 ],
 "metadata": {
  "kernelspec": {
   "display_name": "Python 3",
   "language": "python",
   "name": "python3"
  },
  "language_info": {
   "codemirror_mode": {
    "name": "ipython",
    "version": 3
   },
   "file_extension": ".py",
   "mimetype": "text/x-python",
   "name": "python",
   "nbconvert_exporter": "python",
   "pygments_lexer": "ipython3",
   "version": "3.7.3"
  },
  "toc": {
   "base_numbering": 1,
   "nav_menu": {},
   "number_sections": false,
   "sideBar": false,
   "skip_h1_title": false,
   "title_cell": "Table of Contents",
   "title_sidebar": "Contents",
   "toc_cell": false,
   "toc_position": {},
   "toc_section_display": false,
   "toc_window_display": false
  }
 },
 "nbformat": 4,
 "nbformat_minor": 4
}
